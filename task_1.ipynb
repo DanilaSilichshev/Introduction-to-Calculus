{
 "cells": [
  {
   "cell_type": "markdown",
   "metadata": {},
   "source": [
    "<h1 align=\"center\">Урок 2. Множество. Последовательность. Часть 1</h1>"
   ]
  },
  {
   "cell_type": "markdown",
   "metadata": {},
   "source": [
    "### Тема 1. “Введение в математическую логику”"
   ]
  },
  {
   "cell_type": "markdown",
   "metadata": {},
   "source": [
    "1. Прочитать высказывания математической логики, построить их отрицания и установить истинность."
   ]
  },
  {
   "cell_type": "markdown",
   "metadata": {},
   "source": [
    "<img src=\"task.png\" alt=\"Задание\" />"
   ]
  },
  {
   "cell_type": "markdown",
   "metadata": {},
   "source": [
    "1.1 Для любого y, принадлежащего интервалу от 0 до 1 включительно, кусочно-постоянная функция аргумента принимает значение 1.\n",
    "<br/>Ложное высказывание.<br/>Отрицание: &#8707;y &#8712; [0;1]: sgn(y) &#8800;\t1"
   ]
  },
  {
   "cell_type": "markdown",
   "metadata": {},
   "source": [
    "1.2 Для любого n, принадлежащего множеству натуральных чисел и большего двух, существуют x, y, z, принадлежащие множеству натуральных чисел, для которых выполняется следующее равенство: x<sup>n</sup> = y<sup>n</sup> + z<sup>n</sup>\n",
    "<br/>Истинное высказывание.<br/>Отрицание: &#8707;n &#8712; N > 2: &#8704;x,y,z &#8712; N: x<sup>n</sup> &#8800; y<sup>n</sup> + z<sup>n</sup>"
   ]
  },
  {
   "cell_type": "markdown",
   "metadata": {},
   "source": [
    "1.4 Для любого x, принадлежащего множеству комплексных чисел, не существует y, принадлежащий множеству комплексных чисел, для которого выполняется неравенство x > y или x < y.\n",
    "<br/>Истинное высказывание.<br/>Отрицание: &#8707;x &#8712; C &#8704;y &#8712; C: x > y||x < y"
   ]
  },
  {
   "cell_type": "markdown",
   "metadata": {},
   "source": [
    "1.5 Для любого y, принадлежащего интервалу от 0 до pi/2 включительно, существует ε больше 0, для которого выполняется неравенство siny < sin(y + ε).\n",
    "<br/>Ложное высказывание.<br/>Отрицание: &#8707;y &#8712; [0;pi/2] &#8704;ε>0: siny > sin(y + ε)"
   ]
  },
  {
   "cell_type": "markdown",
   "metadata": {},
   "source": [
    "1.6 Для любого y, принадлежащего интервалу от 0 до pi невключительно, существует ε больше 0, для которого выполняется неравенство cosy > cos(y + ε).<br/>\n",
    "Истинное высказывание.<br/>Отрицание: &#8707;y &#8712; [0;pi) &#8704;ε>0: cosy < cos(y + ε)"
   ]
  },
  {
   "cell_type": "markdown",
   "metadata": {},
   "source": [
    "1.7 Для любого x характерно, что он не является элементом множества натуральных, целых, рациональных, действительных и комплексных чисел.<br/>Ложное высказывание.<br/>Отрицание: &#8704;x: x &#8712; {N, Z, Q, R, C}"
   ]
  },
  {
   "cell_type": "markdown",
   "metadata": {},
   "source": [
    "### Тема 2. “Множество”"
   ]
  },
  {
   "cell_type": "markdown",
   "metadata": {},
   "source": [
    "1. Даны три множества a,b и с. Необходимо выполнить все изученные виды бинарных операций\n",
    "над всеми комбинациями множеств."
   ]
  },
  {
   "cell_type": "markdown",
   "metadata": {},
   "source": [
    "A = {1, 2, 3, 7, 8, 25, -1.25}<br />\n",
    "B = {text, 2, 8, 25}<br />\n",
    "C = {1, 3, text}"
   ]
  },
  {
   "cell_type": "markdown",
   "metadata": {},
   "source": [
    "<b>Пересечение:</b>\n",
    "<ul>\n",
    "    <li>A &#8745; B = {2, 8, 25}</li>\n",
    "    <li>A &#8745; C = {1, 3}</li>\n",
    "    <li>B &#8745; C = {text}</li>\n",
    "    <li>A &#8745; B &#8745; C = &#8709;</li>\n",
    "</ul>\n",
    "Исходя из законов коммутативности и ассоциативности конъюнкции следует, что приведение других комбинаций данных множеств не имеет смысла."
   ]
  },
  {
   "cell_type": "markdown",
   "metadata": {},
   "source": [
    "<b>Объединение:</b>\n",
    "<ul>\n",
    "    <li>A &#8746; B = {1, 2, 3, 7, 8, 25, -1.25, text}</li>\n",
    "    <li>A &#8746; C = {1, 2, 3, 7, 8, 25, -1.25, text}</li>\n",
    "    <li>B &#8746; C = {text, 2, 8, 25, 1, 3}</li>\n",
    "    <li>A &#8746; B &#8746; C = {1, 2, 3, 7, 8, 25, -1.25, text}</li>\n",
    "</ul>\n",
    "Исходя из законов коммутативности и ассоциативности дизъюнкции следует, что приведение других комбинаций данных множеств не имеет смысла."
   ]
  },
  {
   "cell_type": "markdown",
   "metadata": {},
   "source": [
    "<b>Разность:</b>\n",
    "<ul>\n",
    "    <li>A \\ B = {1, 3, 7, -1.25}</li>\n",
    "    <li>B \\ A = {text}</li>\n",
    "    <li>A \\ C = {2, 7, 8, 25, -1.25}</li>\n",
    "    <li>C \\ A = {text}</li>\n",
    "    <li>B \\ C = {2, 8, 25}</li>\n",
    "    <li>С \\ B = {1, 3}</li>\n",
    "    <li>A \\ B \\ C = {7, -1.25}</li>\n",
    "</ul>"
   ]
  },
  {
   "cell_type": "markdown",
   "metadata": {},
   "source": [
    "<b>Симметрическая разность:</b>\n",
    "<ul>\n",
    "    <li>A Δ B = {1, 3, 7, -1.25, text}</li>\n",
    "    <li>A Δ C = {text, 2, 7, 8, 25, -1.25}</li>\n",
    "    <li>B Δ C = {1, 3, 2, 8, 25}</li>\n",
    "    <li>A Δ B Δ C = {7, -1.25}</li>\n",
    "</ul>"
   ]
  },
  {
   "cell_type": "markdown",
   "metadata": {},
   "source": [
    "2. *Выполнить задание 1 на языке Python"
   ]
  },
  {
   "cell_type": "code",
   "execution_count": 1,
   "metadata": {},
   "outputs": [],
   "source": [
    "A = {1, 2, 3, 7, 8, 25, -1.25}\n",
    "B = {\"text\", 2, 8, 25}\n",
    "C = {1, 3, \"text\"}"
   ]
  },
  {
   "cell_type": "markdown",
   "metadata": {},
   "source": [
    "<b>Пересечение:</b>"
   ]
  },
  {
   "cell_type": "code",
   "execution_count": 2,
   "metadata": {},
   "outputs": [
    {
     "name": "stdout",
     "output_type": "stream",
     "text": [
      "The intersection of sets A and B: {8, 25, 2}\n",
      "The intersection of sets A and C: {1, 3}\n",
      "The intersection of sets B and C: {'text'}\n",
      "The intersection of sets A, B and C: set()\n"
     ]
    }
   ],
   "source": [
    "print(f\"The intersection of sets A and B: {A & B}\", f\"The intersection of sets A and C: {A & C}\", \n",
    "      f\"The intersection of sets B and C: {B & C}\", f\"The intersection of sets A, B and C: {A.intersection(B).intersection(C)}\",\n",
    "      sep=\"\\n\")"
   ]
  },
  {
   "cell_type": "markdown",
   "metadata": {},
   "source": [
    "<b>Объединение:</b>"
   ]
  },
  {
   "cell_type": "code",
   "execution_count": 3,
   "metadata": {},
   "outputs": [
    {
     "name": "stdout",
     "output_type": "stream",
     "text": [
      "The union of sets A and B: {1, 2, 3, 7, 8, 'text', 25, -1.25}\n",
      "The union of sets A and C: {1, 2, 3, 7, 8, 'text', 25, -1.25}\n",
      "The union of sets B and C: {1, 2, 3, 8, 25, 'text'}\n",
      "The union of sets A, B and C: {1, 2, 3, 7, 8, 'text', 25, -1.25}\n"
     ]
    }
   ],
   "source": [
    "print(f\"The union of sets A and B: {A | B}\", f\"The union of sets A and C: {A | C}\", \n",
    "      f\"The union of sets B and C: {B | C}\", f\"The union of sets A, B and C: {A.union(B).union(C)}\",\n",
    "      sep=\"\\n\")"
   ]
  },
  {
   "cell_type": "markdown",
   "metadata": {},
   "source": [
    "<b>Разность:</b>"
   ]
  },
  {
   "cell_type": "code",
   "execution_count": 4,
   "metadata": {},
   "outputs": [
    {
     "name": "stdout",
     "output_type": "stream",
     "text": [
      "The difference between A and B: {1, 3, -1.25, 7}\n",
      "The difference between B and A: {'text'}\n",
      "The difference between A and C: {2, 7, 8, 25, -1.25}\n",
      "The difference between C and A: {'text'}\n",
      "The difference between B and C: {8, 25, 2}\n",
      "The difference between C and B: {1, 3}\n",
      "The difference between A, B and C: {7, -1.25}\n"
     ]
    }
   ],
   "source": [
    "print(f\"The difference between A and B: {A - B}\", f\"The difference between B and A: {B - A}\", \n",
    "      f\"The difference between A and C: {A - C}\", f\"The difference between C and A: {C - A}\", \n",
    "      f\"The difference between B and C: {B - C}\", f\"The difference between C and B: {C - B}\", \n",
    "      f\"The difference between A, B and C: {A.difference(B).difference(C)}\", sep=\"\\n\")"
   ]
  },
  {
   "cell_type": "markdown",
   "metadata": {},
   "source": [
    "<b>Симметрическая разность:</b>"
   ]
  },
  {
   "cell_type": "code",
   "execution_count": 5,
   "metadata": {},
   "outputs": [
    {
     "name": "stdout",
     "output_type": "stream",
     "text": [
      "The symmetric difference between A and B: {1, 3, 7, 'text', -1.25}\n",
      "The symmetric difference between A and C: {2, 7, 8, 25, 'text', -1.25}\n",
      "The symmetric difference between B and C: {1, 2, 3, 8, 25}\n",
      "The symmetric difference between A, B and C: {-1.25, 7}\n"
     ]
    }
   ],
   "source": [
    "print(f\"The symmetric difference between A and B: {A ^ B}\", f\"The symmetric difference between A and C: {A ^ C}\", \n",
    "      f\"The symmetric difference between B and C: {B ^ C}\", \n",
    "      f\"The symmetric difference between A, B and C: {A.symmetric_difference(B).symmetric_difference(C)}\", sep=\"\\n\")"
   ]
  }
 ],
 "metadata": {
  "kernelspec": {
   "display_name": "Python 3",
   "language": "python",
   "name": "python3"
  },
  "language_info": {
   "codemirror_mode": {
    "name": "ipython",
    "version": 3
   },
   "file_extension": ".py",
   "mimetype": "text/x-python",
   "name": "python",
   "nbconvert_exporter": "python",
   "pygments_lexer": "ipython3",
   "version": "3.7.4"
  }
 },
 "nbformat": 4,
 "nbformat_minor": 2
}
