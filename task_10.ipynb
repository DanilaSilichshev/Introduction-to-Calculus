{
 "cells": [
  {
   "cell_type": "markdown",
   "metadata": {},
   "source": [
    "<h1 align=\"center\">Урок 11. Интеграл. Ряды. Часть 2</h1>"
   ]
  },
  {
   "cell_type": "markdown",
   "metadata": {},
   "source": [
    "### Тема “Ряды”"
   ]
  },
  {
   "cell_type": "markdown",
   "metadata": {},
   "source": [
    "1. Исследовать ряд на сходимость, используя признак д’Аламбера:"
   ]
  },
  {
   "cell_type": "markdown",
   "metadata": {},
   "source": [
    "$$ \\displaystyle\\sum_{n=1}^{\\infty} \\frac{n^n}{(n!)^2}$$\n",
    "\n",
    "$$ \\lim_{n\\to\\infty} \\frac{a_{n+1}}{a_n} = \\lim_{n\\to\\infty} \\frac{\\frac{(n+1)^{n+1}}{((n+1)!)^2}}{\\frac{n^n}{(n!)^2}} = \\lim_{n\\to\\infty} \\frac{(n+1)^{n+1}*(n!)^2}{((n+1)!)^2*n^n} = \\lim_{n\\to\\infty} \\frac{(n+1)^{n+1}}{(n+1)^2*n^n} = \\lim_{n\\to\\infty} \\frac{(n+1)^n}{(n+1)*n^n} = \\lim_{n\\to\\infty} \\frac{\\left( \\frac{n+1}{n} \\right)^n}{n+1} = \\lim_{n\\to\\infty} \\frac{\\left( 1+\\frac{1}{n} \\right)^n}{n+1} = \\frac{\\lim_{n\\to\\infty} \\left( 1+\\frac{1}{n} \\right)^n}{\\lim_{n\\to\\infty} n+1} = \\frac{e}{\\infty} \\approx 0 < 1,=> ряд\\ сходится$$"
   ]
  },
  {
   "cell_type": "markdown",
   "metadata": {},
   "source": [
    "2. Исследовать ряд на сходимость, используя радикальный признак Коши:"
   ]
  },
  {
   "cell_type": "markdown",
   "metadata": {},
   "source": [
    "$$ \\displaystyle\\sum_{n=1}^{\\infty} \\frac{n}{2^n}$$\n",
    "\n",
    "$$ \\lim_{n\\to\\infty} \\sqrt[n]{a_n} = \\lim_{n\\to\\infty} \\sqrt[n]{a_n} = \\lim_{n\\to\\infty} \\sqrt[n]{\\frac{n}{2^n}} = \\lim_{n\\to\\infty} {\\frac{\\sqrt[n]{n}}{\\sqrt[n]{2^n}}} = \\lim_{n\\to\\infty} 0.5 * \\sqrt[n]{n} = 0.5 <1,=> ряд\\ сходится$$"
   ]
  },
  {
   "cell_type": "markdown",
   "metadata": {},
   "source": [
    "3. Исследовать ряд на сходимость, используя признак Лейбница:"
   ]
  },
  {
   "cell_type": "markdown",
   "metadata": {},
   "source": [
    "$$ \\displaystyle\\sum_{n=1}^{\\infty} \\frac{(-1)^n}{n+ln\\ n}$$\n",
    "\n",
    "$$ |a_1| = |\\frac{-1}{1+ln1}| = |-1| = 1 \\\\ |a_2| = |\\frac{1}{2+ln2}| = |\\frac{1}{2.693}| = |0.371| = 0.371$$\n",
    "\n",
    "$$ \n",
    "\\begin{cases} \n",
    "    \\displaystyle \\lim_{n \\to \\infty} |a_n| = 0 \\\\ |a_{n + 1}| \\leq |a_n|\n",
    "\\end{cases} \n",
    "$$\n",
    "\n",
    "$$ \\displaystyle\\sum_{n=1}^{\\infty} \\frac{(-1)^n}{n+ln\\ n}\\ сходится\\ условно,\\ т.\\ к.\\ знаменатель\\ первой\\ степени,\\ а\\ гармонический\\ ряд\\ степени\\ \\leq 1\\ расходится$$\n"
   ]
  },
  {
   "cell_type": "markdown",
   "metadata": {},
   "source": [
    "4. Исследовать ряд на сходимость, используя признак Раабе:"
   ]
  },
  {
   "cell_type": "markdown",
   "metadata": {},
   "source": [
    "$$ \\displaystyle\\sum_{n=1}^{\\infty} \\frac{3^n}{2^n}$$\n",
    "\n",
    "$$ \\lim_{n\\to\\infty} n \\left( \\frac{a_n}{a_{n+1}} -1 \\right) = \\lim_{n\\to\\infty} n \\left( \\frac{\\frac{3^n}{2^n}}{\\frac{3^{n+1}}{2^{n+1}}} -1 \\right) = \\lim_{n\\to\\infty} n \\left( \\frac{3^n*2^{n+1}}{2^n*3^{n+1}} -1 \\right) = \\lim_{n\\to\\infty} n \\left( \\frac{2}{3} -1 \\right) = - \\lim_{n\\to\\infty} \\frac{n}{3} = -\\infty < 1,=> ряд\\ расходится$$"
   ]
  },
  {
   "cell_type": "markdown",
   "metadata": {},
   "source": [
    "5. Разложить функцию по Тейлору в единице:"
   ]
  },
  {
   "cell_type": "markdown",
   "metadata": {},
   "source": [
    "$$ f(x) = ln(16x^2) $$ \n",
    "\n",
    "$$ f(x) = f(a)+\\frac{f'(a)}{1!}(x-a)+\\frac{f''(a)}{2!}(x-a)^2+\\frac{f'''(a)}{3!}(x-a)^3+\\frac{f''''(a)}{4!}(x-a)^4+...+\\frac{f^{(n)}(a)}{n!}(x-a)^n+...$$\n",
    "\n",
    "$$ f'(x) = (ln(16x^2))' = \\frac{32x}{16x^2} = \\frac{2}{x} \\\\ f''(x) = (\\frac{2}{x})' = - \\frac{2}{x^2} \\\\ f'''(x) = (- \\frac{2}{x^2})' = \\frac{4}{x^3} \\\\  f''''(x) = (\\frac{4}{x^3})' = -\\frac{12}{x^4} $$\n",
    "\n",
    "$$ ln(16x^2) = ln16+\\frac{2}{1!}(x-1)-\\frac{2}{2!}(x-1)^2+\\frac{4}{3!}(x-1)^3-\\frac{12}{4!}(x-1)^4+...$$"
   ]
  }
 ],
 "metadata": {
  "kernelspec": {
   "display_name": "Python 3",
   "language": "python",
   "name": "python3"
  },
  "language_info": {
   "codemirror_mode": {
    "name": "ipython",
    "version": 3
   },
   "file_extension": ".py",
   "mimetype": "text/x-python",
   "name": "python",
   "nbconvert_exporter": "python",
   "pygments_lexer": "ipython3",
   "version": "3.7.4"
  }
 },
 "nbformat": 4,
 "nbformat_minor": 2
}
