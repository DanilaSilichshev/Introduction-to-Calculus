{
 "cells": [
  {
   "cell_type": "markdown",
   "metadata": {},
   "source": [
    "<h1 align=\"center\">Урок 2. Множество. Последовательность. Часть 2</h1>"
   ]
  },
  {
   "cell_type": "markdown",
   "metadata": {},
   "source": [
    "### Тема 3. “Последовательность”"
   ]
  },
  {
   "cell_type": "code",
   "execution_count": 1,
   "metadata": {},
   "outputs": [],
   "source": [
    "from math import sqrt\n",
    "from sympy import factorial"
   ]
  },
  {
   "cell_type": "markdown",
   "metadata": {},
   "source": [
    "1. Как связаны между собой понятия последовательности и множества?"
   ]
  },
  {
   "cell_type": "markdown",
   "metadata": {},
   "source": [
    "<b>Последовательность</b> - часть некоторого <b>множества</b> объектов. <b>Последовательность</b> является результатом закономерного выбора элементов заданного <b>множества</b>."
   ]
  },
  {
   "cell_type": "markdown",
   "metadata": {},
   "source": [
    "2. Даны 4 последовательности. Необходимо:\n",
    "<ul>\n",
    "<li>исследовать их на монотонность;</li>\n",
    "<li>исследовать на ограниченность;</li>\n",
    "<li>найти пятый по счету член.</li>\n",
    "</ul>"
   ]
  },
  {
   "cell_type": "code",
   "execution_count": 2,
   "metadata": {},
   "outputs": [],
   "source": [
    "fifth_n = 5"
   ]
  },
  {
   "cell_type": "markdown",
   "metadata": {},
   "source": [
    "<img src=\"task_2.png\" alt=\"Задание\" />"
   ]
  },
  {
   "cell_type": "markdown",
   "metadata": {},
   "source": [
    "2.1"
   ]
  },
  {
   "cell_type": "code",
   "execution_count": 3,
   "metadata": {
    "scrolled": true
   },
   "outputs": [
    {
     "name": "stdout",
     "output_type": "stream",
     "text": [
      "1 2 5 12 27 "
     ]
    }
   ],
   "source": [
    "for n in range(1, 6):\n",
    "    print(2**n - n, end=\" \")"
   ]
  },
  {
   "cell_type": "markdown",
   "metadata": {},
   "source": [
    "<i>Последовательность возрастающая. Ограничена снизу  a<sub>1</sub> = 1</i>"
   ]
  },
  {
   "cell_type": "code",
   "execution_count": 4,
   "metadata": {},
   "outputs": [
    {
     "data": {
      "text/plain": [
       "27"
      ]
     },
     "execution_count": 4,
     "metadata": {},
     "output_type": "execute_result"
    }
   ],
   "source": [
    "2**fifth_n - fifth_n"
   ]
  },
  {
   "cell_type": "markdown",
   "metadata": {},
   "source": [
    "2.2 Рассмотрим неравенство <i>a<sub>n+1</sub> &ge; a<sub>n</sub></i>"
   ]
  },
  {
   "cell_type": "markdown",
   "metadata": {},
   "source": [
    "$$\\frac{1}{1-n-1} \\geq \\frac{1}{1-n}$$\n",
    "\n",
    "$$-\\frac{1}{n} \\geq \\frac{1}{1-n}$$\n",
    "\n",
    "$$\\frac{1}{n} \\leq \\frac{1}{n-1}$$\n",
    "\n",
    "$$n-1 \\leq n$$"
   ]
  },
  {
   "cell_type": "markdown",
   "metadata": {},
   "source": [
    "<i>Последовательность  возрастающая. Ограничена снизу  b<sub>2</sub> = -1</i>"
   ]
  },
  {
   "cell_type": "code",
   "execution_count": 5,
   "metadata": {},
   "outputs": [
    {
     "data": {
      "text/plain": [
       "-0.2"
      ]
     },
     "execution_count": 5,
     "metadata": {},
     "output_type": "execute_result"
    }
   ],
   "source": [
    "shift = 1\n",
    "1 / (1-(fifth_n + shift))"
   ]
  },
  {
   "cell_type": "markdown",
   "metadata": {},
   "source": [
    "2.3"
   ]
  },
  {
   "cell_type": "code",
   "execution_count": 6,
   "metadata": {},
   "outputs": [
    {
     "name": "stdout",
     "output_type": "stream",
     "text": [
      "0.41421356237309515\n",
      "1.0\n",
      "1.4494897427831779\n",
      "1.8284271247461903\n",
      "2.1622776601683795\n"
     ]
    }
   ],
   "source": [
    "for n in range(1, 6):\n",
    "    print(-1**n + sqrt(2 * n))"
   ]
  },
  {
   "cell_type": "markdown",
   "metadata": {},
   "source": [
    "<i>Последовательность возрастающая. Ограничена снизу  c<sub>1</sub> = 0.41421356237309515</i>"
   ]
  },
  {
   "cell_type": "code",
   "execution_count": 7,
   "metadata": {},
   "outputs": [
    {
     "data": {
      "text/plain": [
       "2.1622776601683795"
      ]
     },
     "execution_count": 7,
     "metadata": {},
     "output_type": "execute_result"
    }
   ],
   "source": [
    "-1**fifth_n + sqrt(2 * fifth_n)"
   ]
  },
  {
   "cell_type": "markdown",
   "metadata": {},
   "source": [
    "2.4"
   ]
  },
  {
   "cell_type": "code",
   "execution_count": 8,
   "metadata": {
    "scrolled": true
   },
   "outputs": [
    {
     "name": "stdout",
     "output_type": "stream",
     "text": [
      "2.0\n",
      "1.25\n",
      "1.1111111111111112\n",
      "1.0625\n",
      "1.04\n"
     ]
    }
   ],
   "source": [
    "for n in range(1, 6):\n",
    "    print((-1)**(2*n) + 1/(n**2))"
   ]
  },
  {
   "cell_type": "markdown",
   "metadata": {},
   "source": [
    "<i>Последовательность убывающая. Ограничена сверху  d<sub>1</sub> = 2</i></i>"
   ]
  },
  {
   "cell_type": "code",
   "execution_count": 9,
   "metadata": {},
   "outputs": [
    {
     "data": {
      "text/plain": [
       "1.04"
      ]
     },
     "execution_count": 9,
     "metadata": {},
     "output_type": "execute_result"
    }
   ],
   "source": [
    "(-1)**(2*fifth_n) + 1/(fifth_n**2)"
   ]
  },
  {
   "cell_type": "markdown",
   "metadata": {},
   "source": [
    "3. Найти 12-й член заданной неявно последовательности: a<sub>1</sub> = 128, a<sub>n+1</sub> - a<sub>n</sub> = 6"
   ]
  },
  {
   "cell_type": "markdown",
   "metadata": {},
   "source": [
    "В данном случае <i>a<sub>n+1</sub> - a<sub>n</sub> = 6</i> - разность арифметической последовательности. <br /> Исходя из формулы для нахождения n-члена арифметической последовательности:<br /> <i>a<sub>n</sub> = a<sub>1</sub> + (n - 1) * d => a<sub>12</sub> = 128 + 11 * 6 = 194</i>"
   ]
  },
  {
   "cell_type": "markdown",
   "metadata": {},
   "source": [
    "4. *На языке Python предложить алгоритм вычисляющий численно предел с точностью ε = 10<sup>-7</sup>"
   ]
  },
  {
   "cell_type": "markdown",
   "metadata": {},
   "source": [
    "<img src=\"task_4.png\" alt=\"Задание\" />"
   ]
  },
  {
   "cell_type": "code",
   "execution_count": 10,
   "metadata": {},
   "outputs": [],
   "source": [
    "def calculate_expression(n):\n",
    "    return n / ((factorial(n)) ** (1/n))"
   ]
  },
  {
   "cell_type": "code",
   "execution_count": 11,
   "metadata": {
    "scrolled": false
   },
   "outputs": [
    {
     "name": "stdout",
     "output_type": "stream",
     "text": [
      "n = 11779, diff = 9.99967579851102E-8\n",
      "Wall time: 44.9 s\n"
     ]
    }
   ],
   "source": [
    "%%time\n",
    "n = 2\n",
    "e = 10**(-7)\n",
    "diff = 0\n",
    "result_prev = calculate_expression(1)\n",
    "\n",
    "while True:\n",
    "    result = calculate_expression(n)\n",
    "    diff = result - result_prev\n",
    "    result_prev = result\n",
    "    if diff <= e:\n",
    "        break\n",
    "    n += 1\n",
    "    \n",
    "print(f\"n = {n},\", f\"diff = {diff}\")"
   ]
  }
 ],
 "metadata": {
  "kernelspec": {
   "display_name": "Python 3",
   "language": "python",
   "name": "python3"
  },
  "language_info": {
   "codemirror_mode": {
    "name": "ipython",
    "version": 3
   },
   "file_extension": ".py",
   "mimetype": "text/x-python",
   "name": "python",
   "nbconvert_exporter": "python",
   "pygments_lexer": "ipython3",
   "version": "3.7.4"
  }
 },
 "nbformat": 4,
 "nbformat_minor": 2
}
