{
 "cells": [
  {
   "cell_type": "markdown",
   "metadata": {},
   "source": [
    "<h1 align=\"center\">Урок 5. Предел функции. Часть 2</h1>"
   ]
  },
  {
   "cell_type": "markdown",
   "metadata": {},
   "source": [
    "### Тема “Теоремы о пределах”"
   ]
  },
  {
   "cell_type": "markdown",
   "metadata": {},
   "source": [
    "1. Найти предел:"
   ]
  },
  {
   "cell_type": "markdown",
   "metadata": {},
   "source": [
    "a $$\\lim_{x \\to 0} \\frac{x}{arcsin(x)} = \\bigl(\\frac{0}{0}\\bigr) = 1, -\\ следствие\\ из\\ первого\\ замечательного\\ предела$$"
   ]
  },
  {
   "cell_type": "markdown",
   "metadata": {},
   "source": [
    "b <i>Был использован второй замечательный предел</i>\n",
    "$$ \\lim_{x\\to\\infty} \\bigl(\\frac{4x+3}{4x-3}\\bigr)^{6x} = \\lim_{x\\to\\infty} \\bigl(\\frac{4x-3+6}{4x-3}\\bigr)^{6x} = \\lim_{x\\to\\infty} \\bigl(1 + \\frac{6}{4x-3}\\bigr)^{6x} = \\lim_{x\\to\\infty} \\bigl(1 + \\frac{6}{4x-3}\\bigr)^{6x \\frac{4x-3}{6} *\\frac{6}{4x-3}} = e ^{\\lim_{x\\to\\infty} \\frac{36x}{4x-3}} = e^9 ≈ 8103.08392758$$"
   ]
  },
  {
   "cell_type": "markdown",
   "metadata": {},
   "source": [
    "c $$ \\lim_{x\\to\\infty} \\frac{sinx+lnx}{x} = \\lim_{x\\to \\infty} \\frac{sinx}{x} + \\lim_{x\\to \\infty} \\frac{lnx}{x} = 0 + 0 = 0 $$"
   ]
  },
  {
   "cell_type": "markdown",
   "metadata": {},
   "source": [
    "d $$ \\lim_{x\\to 0} \\frac{sinx+lnx}{x} = \\lim_{x\\to 0} \\frac{sinx}{x} + \\lim_{x\\to 0} \\frac{lnx}{x} = 1 + \\infty = \\infty$$"
   ]
  }
 ],
 "metadata": {
  "kernelspec": {
   "display_name": "Python 3",
   "language": "python",
   "name": "python3"
  },
  "language_info": {
   "codemirror_mode": {
    "name": "ipython",
    "version": 3
   },
   "file_extension": ".py",
   "mimetype": "text/x-python",
   "name": "python",
   "nbconvert_exporter": "python",
   "pygments_lexer": "ipython3",
   "version": "3.7.4"
  }
 },
 "nbformat": 4,
 "nbformat_minor": 2
}
