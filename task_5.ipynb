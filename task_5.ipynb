{
 "cells": [
  {
   "cell_type": "markdown",
   "metadata": {},
   "source": [
    "<h1 align=\"center\">Урок 6. Производная функции одной переменной. Часть 1</h1>"
   ]
  },
  {
   "cell_type": "markdown",
   "metadata": {},
   "source": [
    "### Тема “Понятие о производной”"
   ]
  },
  {
   "cell_type": "markdown",
   "metadata": {},
   "source": [
    "1. Найти производную выражения:"
   ]
  },
  {
   "cell_type": "markdown",
   "metadata": {},
   "source": [
    "a. $$(sinx*cosx)' = (sinx)'*cosx+sinx*(cosx)' = cos^2x-sin^2x = cos2x$$"
   ]
  },
  {
   "cell_type": "markdown",
   "metadata": {},
   "source": [
    "b. $$(\\ln{(2x + 1)^3})' = \\frac{3(2x + 1)^2 * 2}{(2x + 1)^3} = \\frac{6}{2x +1}$$"
   ]
  },
  {
   "cell_type": "markdown",
   "metadata": {},
   "source": [
    "c. $$\\left(\\sqrt{\\sin^2{(\\ln(x^3))}}\\right)'= \\cos{|\\ln{(x^3)|}} * \\frac{1}{x^3} * 3x^2 = \\frac{3 \\cos{|\\ln{(x^3)|}}}{x}$$"
   ]
  },
  {
   "cell_type": "markdown",
   "metadata": {},
   "source": [
    "d. $$\\left(\\frac{x^4}{\\ln{(x)}}\\right)' = \\frac{4x^3\\cdot \\ln{(x)} - x^4 \\frac{1}{x} }{\\ln^2{(x)}} = \\frac{4x^3\\ln{(x)} - x^3}{\\ln^2{(x)}} = \\frac{x^3(4\\ln{(x)} - 1)}{\\ln^2{(x)}}$$"
   ]
  },
  {
   "cell_type": "markdown",
   "metadata": {},
   "source": [
    "2. Найти выражение производной функции и ее значение в точке:"
   ]
  },
  {
   "cell_type": "markdown",
   "metadata": {},
   "source": [
    "$$f(x) = \\cos{(x^2 + 3x)},\\ x_0 = \\sqrt{\\pi}$$\n",
    "\n",
    "$$f'(x) = -\\sin{(x^2 + 3x)} * (2x +3) = -(2x +3)\\sin{(x^2 + 3x)}$$\n",
    "\n",
    "$$f'(\\sqrt{\\pi}) = -(2\\sqrt{\\pi} +3)\\sin{((\\sqrt{\\pi})^2 + 3\\sqrt{\\pi})} = -(2\\sqrt{\\pi} +3)*(\\sin{\\pi}\\cos{3\\sqrt{\\pi}} + \\cos{\\pi}\\sin{3\\sqrt{\\pi}}) = $$\n",
    "\n",
    "$$(2\\sqrt{\\pi} +3)\\sin{3\\sqrt{\\pi}} \\approx −5.38330241$$"
   ]
  },
  {
   "cell_type": "markdown",
   "metadata": {},
   "source": [
    "3.* Найти значение производной функции в точке:"
   ]
  },
  {
   "cell_type": "markdown",
   "metadata": {},
   "source": [
    "$$f(x)= \\frac{x^3 - x^2 - x - 1}{1 + 2x + 3x^2 - 4x^3},\\ x_0 = 0$$\n",
    "\n",
    "$$f'(x)= \\frac{(3x^2 - 2x - 1)(1 + 2x + 3x^2 - 4x^3)-(x^3 - x^2 - x - 1)(2 + 6x - 12x^2)}{(1 + 2x + 3x^2 - 4x^3)^2} = $$\n",
    "\n",
    "$$f'(0) = \\frac{-1*1 - (-1)*2}{(1)^2} = \\frac{1}{(1)^2} = 1$$"
   ]
  },
  {
   "cell_type": "markdown",
   "metadata": {},
   "source": [
    "4. Найти угол наклона касательной к графику функции в точке:"
   ]
  },
  {
   "cell_type": "markdown",
   "metadata": {},
   "source": [
    "$$f(x) = \\sqrt{3x} \\cdot \\ln{x},\\ x_0 = 1$$\n",
    "\n",
    "$$f'(x) = \\sqrt{3}(\\sqrt{x} * \\ln{x})' = \\sqrt{3}\\left(\\frac{\\ln{x}}{2\\sqrt{x}}+ \\frac{\\sqrt{x}}{x}\\right) = \\sqrt{3}\\left(\\frac{\\ln{(x)} + 2}{2\\sqrt{x}}\\right)$$\n",
    "\n",
    "$$f'(1) = \\sqrt{3}\\left(\\frac{\\ln{(1)} + 2}{2\\sqrt{1}}\\right) =\\sqrt{3}$$\n",
    "\n",
    "$$\\tan{x} = \\sqrt{3}$$\n",
    "\n",
    "$$x=\\frac{\\pi}{3}$$"
   ]
  }
 ],
 "metadata": {
  "kernelspec": {
   "display_name": "Python 3",
   "language": "python",
   "name": "python3"
  },
  "language_info": {
   "codemirror_mode": {
    "name": "ipython",
    "version": 3
   },
   "file_extension": ".py",
   "mimetype": "text/x-python",
   "name": "python",
   "nbconvert_exporter": "python",
   "pygments_lexer": "ipython3",
   "version": "3.7.4"
  }
 },
 "nbformat": 4,
 "nbformat_minor": 2
}
