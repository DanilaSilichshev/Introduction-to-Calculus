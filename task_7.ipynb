{
 "cells": [
  {
   "cell_type": "markdown",
   "metadata": {},
   "source": [
    "<h1 align=\"center\">Урок 8. Производная функции нескольких переменных. Часть 1</h1>"
   ]
  },
  {
   "cell_type": "markdown",
   "metadata": {},
   "source": [
    "### Тема “Производные функций нескольких переменных”"
   ]
  },
  {
   "cell_type": "markdown",
   "metadata": {},
   "source": [
    "1. Найти область определения функции."
   ]
  },
  {
   "cell_type": "markdown",
   "metadata": {},
   "source": [
    "$$z = \\sqrt{1-x^3} + ln(y^2-1)$$\n",
    "\n",
    "$$\n",
    " \\begin{cases}\n",
    "   1-x^3 \\geq 0\\ | * (-1)\\\\ y^2-1>0\n",
    " \\end{cases},\n",
    " =>\n",
    " \\begin{cases}\n",
    "   x^3 \\leq 1\\\\ (y-1)(y+1)>0\n",
    " \\end{cases},\n",
    " =>\n",
    " \\begin{cases}\n",
    "   x \\leq 1\\\\ \n",
    "   \\begin{cases}\n",
    "       y <-1 \\\\y > 1\n",
    "   \\end{cases}\n",
    " \\end{cases}\n",
    "$$"
   ]
  },
  {
   "cell_type": "markdown",
   "metadata": {},
   "source": [
    "2. Найти производные 1-го порядка функции."
   ]
  },
  {
   "cell_type": "markdown",
   "metadata": {},
   "source": [
    "$$ z = \\left( 1+\\frac{lnx}{lny} \\right) ^3 $$\n",
    "\n",
    "$$ \\frac{∂z}{∂x} =  3\\left( 1+\\frac{lnx}{lny} \\right) ^2 *\\frac{1}{xlny} = \\frac{3}{xlny}\\left( 1+\\frac{lnx}{lny} \\right) ^2$$\n",
    "\n",
    "$$ \\frac{∂z}{∂x} =  3\\left( 1+\\frac{lnx}{lny} \\right) ^2 *lnx*\\frac{1}{y} * (ln^{-1}y)'_y = 3\\left( 1+\\frac{lnx}{lny} \\right) ^2 *lnx*\\frac{1}{y} * \\frac{-1}{ln^2y} = - \\frac{3lnx}{yln^2y}\\left( 1+\\frac{lnx}{lny} \\right) ^2$$"
   ]
  },
  {
   "cell_type": "markdown",
   "metadata": {},
   "source": [
    "3. Найти полный дифференциал функции в точке (1;1)."
   ]
  },
  {
   "cell_type": "markdown",
   "metadata": {},
   "source": [
    "$$ z = \\sqrt{2xy + cos\\frac{x}{y}}$$\n",
    "\n",
    "$$ dz = \\frac{∂z}{∂x} dx + \\frac{∂z}{∂y}dy$$\n",
    "\n",
    "$$ \\frac{∂z}{∂x} = \\frac{1}{2\\sqrt{2xy + cos\\frac{x}{y}}}  \\left(2y-\\frac{sin\\frac{x}{y}}{y}\\right)$$\n",
    "\n",
    "$$ \\frac{∂z}{∂y} = \\frac{1}{2\\sqrt{2xy + cos\\frac{x}{y}}}  \\left(2x+\\frac{xsin\\frac{x}{y}}{y^2}\\right)$$\n",
    "\n",
    "После вычислений полный дифференциал принял следующий вид: \n",
    "\n",
    "$$ dz_{(1, 1)} = 0.364dx + 0.891dy$$ "
   ]
  },
  {
   "cell_type": "markdown",
   "metadata": {},
   "source": [
    "4. Исследовать на экстремум функцию"
   ]
  },
  {
   "cell_type": "markdown",
   "metadata": {},
   "source": [
    "$$ z = x^2+xy+y^2-6x-9y $$\n",
    "\n",
    "$$ \n",
    "\\begin{cases}\n",
    "   \\frac{∂z}{∂x} = 2x+y-6\\\\ \\frac{∂z}{∂y} = x+2y-9\n",
    " \\end{cases},\n",
    " =>\n",
    " \\begin{cases}\n",
    "   2x = 6-y\\\\ x + 2y = 9\n",
    " \\end{cases},\n",
    " =>\n",
    " \\begin{cases}\n",
    "   x = 3-0.5y\\\\ 3-0.5y + 2y = 9\n",
    " \\end{cases},\n",
    " =>\n",
    " \\begin{cases}\n",
    "   x = 1\\\\ y=4\n",
    " \\end{cases}\n",
    "$$\n",
    "\n",
    "$$\\frac{∂^2z}{∂x^2} = 2;\\ \\frac{∂^2z}{∂y^2} = 2;\\ \\frac{∂^2z}{∂x∂y} = 1$$\n",
    "\n",
    "$$ ∆ = 2*2 - 1 = 3 > 0$$\n",
    "\n",
    "$$ z_{(1, 4)} = 1+4+4^2-6-9*4=-21$$"
   ]
  },
  {
   "cell_type": "markdown",
   "metadata": {},
   "source": [
    "<i>Точка (1, 4, -21) является минимум функции</i>"
   ]
  }
 ],
 "metadata": {
  "kernelspec": {
   "display_name": "Python 3",
   "language": "python",
   "name": "python3"
  },
  "language_info": {
   "codemirror_mode": {
    "name": "ipython",
    "version": 3
   },
   "file_extension": ".py",
   "mimetype": "text/x-python",
   "name": "python",
   "nbconvert_exporter": "python",
   "pygments_lexer": "ipython3",
   "version": "3.7.4"
  }
 },
 "nbformat": 4,
 "nbformat_minor": 2
}
