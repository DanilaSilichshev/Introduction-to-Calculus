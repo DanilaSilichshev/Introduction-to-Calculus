{
 "cells": [
  {
   "cell_type": "markdown",
   "metadata": {},
   "source": [
    "<h1 align=\"center\">Урок 8. Производная функции нескольких переменных. Часть 2</h1>"
   ]
  },
  {
   "cell_type": "markdown",
   "metadata": {},
   "source": [
    "### Тема “Функции нескольких переменных”"
   ]
  },
  {
   "cell_type": "markdown",
   "metadata": {},
   "source": [
    "$1.\\ Исследовать\\ функцию\\ U=3-8x+6y\\ на\\ условный\\ экстремум,\\ если\\ x^2+y^2=36$\n",
    "\n",
    "$1.1\\ Составим\\ функцию\\ Лагранжа\\ L= f(x,y)+\\lambda * \\varphi(x, y): $\n",
    "\n",
    "$$ L(x,y, \\lambda)=3−8𝑥+6𝑦 + \\lambda*(x^2+y^2-36)$$\n",
    "\n",
    "$1.2\\ Решим\\ систему\\ уравнения,\\ составленную\\ из\\ частных\\ производных\\ функции\\ Лагранжа:$\n",
    "\n",
    "$$ \n",
    "\\begin{cases}\n",
    "   L'_x=0\\\\ L'_y=0\\\\ L'_{\\lambda}=\\varphi(x, y)=0\n",
    " \\end{cases},\n",
    " =>\n",
    " \\begin{cases}\n",
    "   -8+\\lambda*2x=0\\\\ 6+\\lambda*2y=0\\\\ x^2+y^2-36=0\n",
    " \\end{cases},\n",
    " =>\n",
    " \\begin{cases}\n",
    "   x=\\frac{4}{\\lambda}\\\\ y=-\\frac{3}{\\lambda}\\\\ \\frac{16}{\\lambda^2}+\\frac{9}{\\lambda^2}=36\n",
    " \\end{cases},\n",
    " =>\n",
    " \\begin{cases}\n",
    "   x=\\frac{4}{\\lambda}\\\\ y=-\\frac{3}{\\lambda}\\\\ \\lambda^2=\\frac{25}{36}\n",
    " \\end{cases},\n",
    " =>\n",
    " \\begin{cases}\n",
    "   x=\\frac{4}{\\lambda}\\\\ y=-\\frac{3}{\\lambda}\\\\ \\lambda_{1,2} = \\pm\\frac{5}{6}\n",
    " \\end{cases},\n",
    " =>\n",
    " \\begin{cases}\n",
    "   \\left( \\frac{24}{5}, -\\frac{18}{5}, \\frac{5}{6}\\right)\\\\ \\left( -\\frac{24}{5}, \\frac{18}{5}, -\\frac{5}{6}\\right)\n",
    " \\end{cases}\n",
    "$$\n",
    "\n",
    "$1.3\\ Проверим\\ выполнение\\ достаточного\\ условия\\ экстремума\\ для\\ найденных\\ стационарных\\ точек:$\n",
    "\n",
    "$$ \n",
    "\\begin{pmatrix}\n",
    "  L''_{\\lambda\\lambda}& L''_{\\lambda x}& L''_{\\lambda y}\\\\\n",
    "  L''_{x\\lambda}& L''_{xx}& L''_{xy}\\\\\n",
    "  L''_{y\\lambda}& L''_{yx}& L''_{yy}\n",
    "\\end{pmatrix}\n",
    "=\n",
    "\\begin{pmatrix}\n",
    "  0& 2x& 2y\\\\\n",
    "  2x& 2\\lambda& 0\\\\\n",
    "  2y& 0& 2\\lambda\n",
    "\\end{pmatrix}\n",
    "$$\n",
    "\n",
    "$$ \n",
    "\\begin{vmatrix}\n",
    "  0& 2x& 2y\\\\\n",
    "  2x& 2\\lambda& 0\\\\\n",
    "  2y& 0& 2\\lambda\n",
    "\\end{vmatrix}\n",
    "=-8y^2*\\lambda-8x^2*\\lambda = -8\\lambda (y^2 + x^2)\n",
    "$$\n",
    "\n",
    "$ Определитель\\ в\\ точке\\  \\left( \\frac{24}{5}, -\\frac{18}{5}, \\frac{5}{6}\\right) < 0, => это\\ минимум\\\\ \n",
    "Определитель\\ в\\ точке\\  \\left( -\\frac{24}{5}, \\frac{18}{5}, -\\frac{5}{6}\\right) > 0, => это\\ максимум\n",
    "$"
   ]
  },
  {
   "cell_type": "markdown",
   "metadata": {},
   "source": [
    "$2.\\ Исследовать\\ функцию\\ U=2x^2+12xy+32y^2+15\\ на\\ условный\\ экстремум,\\ если\\ x^2+16y^2=64$\n",
    "\n",
    "$$ L(x,y, \\lambda)=2x^2+12xy+32y^2+15 + \\lambda*(x^2+16y^2-64)$$\n",
    "\n",
    "$$ \n",
    "\\begin{cases}\n",
    "   4x+12y+\\lambda*2x=0\\\\ 64y+12x+\\lambda*32y=0\\\\ x^2+16y^2-64=0\n",
    " \\end{cases},\n",
    " =>\n",
    " \\begin{cases}\n",
    "   \\lambda=-\\frac{2x+6y}{x}\\\\ \\lambda=-\\frac{3x+16y}{8y}\\\\ x^2+16y^2=64\n",
    " \\end{cases},\n",
    " =>\n",
    " \\begin{cases}\n",
    "   \\lambda=-\\frac{2x+6y}{x}\\\\ \\frac{2x+6y}{x}=\\frac{3x+16y}{8y}\\\\ x^2+16y^2=64\n",
    " \\end{cases},\n",
    " =>\n",
    " \\begin{cases}\n",
    "   \\lambda=-\\frac{2x+6y}{x}\\\\ 16xy+48y^2=3x^2+16xy\\\\ x^2+16y^2=64\n",
    " \\end{cases},\n",
    " =>\n",
    " \\begin{cases}\n",
    "   \\lambda=-\\frac{2x+6y}{x}\\\\ 16y^2=x^2\\\\ x^2+x^2=64\n",
    " \\end{cases},\n",
    " =>\n",
    " \\begin{cases}\n",
    "     \\left(4\\sqrt{2}, \\sqrt{2}, -3.5 \\right) \\\\\n",
    "     \\left(4\\sqrt{2}, -\\sqrt{2}, -0.5 \\right) \\\\\n",
    "     \\left(-4\\sqrt{2}, \\sqrt{2}, -0.5 \\right) \\\\\n",
    "     \\left(-4\\sqrt{2}, -\\sqrt{2}, -3.5 \\right)\n",
    " \\end{cases} \n",
    "$$\n",
    "\n"
   ]
  },
  {
   "cell_type": "markdown",
   "metadata": {},
   "source": [
    "$$ \n",
    "\\begin{vmatrix}\n",
    "  0& 2x& 32y\\\\\n",
    "  2x& 2\\lambda + 4& 12\\\\\n",
    "  32y& 12& 64+32\\lambda\n",
    "\\end{vmatrix}\n",
    "=1536xy-16384-8192\\lambda\n",
    "$$\n"
   ]
  },
  {
   "cell_type": "markdown",
   "metadata": {},
   "source": [
    "$$\n",
    "\\begin{cases}\n",
    "     \\left(4\\sqrt{2}, \\sqrt{2}, -3.5 \\right) - максимум \\\\\n",
    "     \\left(4\\sqrt{2}, -\\sqrt{2}, -0.5 \\right) - минимум \\\\\n",
    "     \\left(-4\\sqrt{2}, \\sqrt{2}, -0.5 \\right) - минимум \\\\\n",
    "     \\left(-4\\sqrt{2}, -\\sqrt{2}, -3.5 \\right)- максимум\n",
    " \\end{cases} \n",
    "$$"
   ]
  },
  {
   "cell_type": "markdown",
   "metadata": {},
   "source": [
    "$3.\\ Найти\\ производную\\ функции\\ U=x^2+y^2+z^2\\ по\\ направлению\\ вектора\\ \\overrightarrow{c}=(-9,8,-12)\\ в\\ точке\\ M\\ (8, -12, 9)$\n",
    "\n",
    "$3.1\\ Вычислим\\ частные\\ производные\\ первого\\ порядка\\ в\\ точке\\ M:$\n",
    "\n",
    "$$ U'_x = 2x,\\ =>\\ U'_x(M) = 2*8=16\\\\ U'_y = 2y,\\ =>\\ U'_y(M) = 2*(-12)=-24\\\\ U'_z = 2z,\\ =>\\ U'_z(M) = 2*9=18$$\n",
    "\n",
    "$3.2\\ Найдём\\ кординаты\\ единичного\\ вектора,\\ сонаправленного\\ с\\ вектором\\ \\overrightarrow{c}:$\n",
    "\n",
    "$$ |\\overrightarrow{c}| = \\sqrt{81+64+144} = 17\\\\  \\overrightarrow{c_0} = \\frac{\\overrightarrow{c}}{|\\overrightarrow{c}|} = \\left(-\\frac{9}{17}, \\frac{8}{17}, -\\frac{12}{17}\\right)$$\n",
    "\n",
    "$$ U'_{\\overrightarrow{c}}|_{M} = \\frac{-9*16-24*8-12*18}{17}=\\frac{-(144+192+216)}{17}=-\\frac{552}{17}$$"
   ]
  },
  {
   "cell_type": "markdown",
   "metadata": {},
   "source": [
    "$4.\\ Найти\\ производную\\ функции\\ U=e^{x^2+y^2+z^2}\\ по\\ направлению\\ вектора\\ \\overrightarrow{d}=(4,-13,-16)\\ в\\ точке\\ L\\ (-16, 4, -13)$\n",
    "\n",
    "$$ U'_x = 2xe^{x^2+y^2+z^2}, U'_y = 2ye^{x^2+y^2+z^2}, U'_z = 2ze^{x^2+y^2+z^2}$$\n",
    "\n",
    "$$ e^{x^2+y^2+z^2} = e^{(-16)^2+4^2+(-13)^2}=e^{441}$$\n",
    "\n",
    "$$ U'_x(L) = -32e^{441}, U'_y(L) = 8e^{441}, U'_x(L) = -26e^{441}$$\n",
    "\n",
    "$$ |\\overrightarrow{d}| = \\sqrt{x^2+y^2+z^2} = \\sqrt{4^2+(-13)^2+(-16)^2} = 21\\\\  \\overrightarrow{d_0} = \\frac{\\overrightarrow{d}}{|\\overrightarrow{d}|} = \\left(\\frac{4}{21}, -\\frac{13}{21}, -\\frac{16}{21}\\right)$$\n",
    "\n",
    "$$ U'_{\\overrightarrow{d}}|_{L} = \\frac{-32*4*e^{441}-13*8*e^{441}-16*(-26)*e^{441}}{21}=\\frac{-128-104+416}{21}e^{441}=\\frac{184}{21}e^{441}$$"
   ]
  }
 ],
 "metadata": {
  "kernelspec": {
   "display_name": "Python 3",
   "language": "python",
   "name": "python3"
  },
  "language_info": {
   "codemirror_mode": {
    "name": "ipython",
    "version": 3
   },
   "file_extension": ".py",
   "mimetype": "text/x-python",
   "name": "python",
   "nbconvert_exporter": "python",
   "pygments_lexer": "ipython3",
   "version": "3.7.4"
  }
 },
 "nbformat": 4,
 "nbformat_minor": 2
}
