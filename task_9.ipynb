{
 "cells": [
  {
   "cell_type": "markdown",
   "metadata": {},
   "source": [
    "<h1 align=\"center\">Урок 10. Интеграл. Ряды. Часть 1</h1>"
   ]
  },
  {
   "cell_type": "markdown",
   "metadata": {},
   "source": [
    "### Тема “Понятие об интеграле”"
   ]
  },
  {
   "cell_type": "markdown",
   "metadata": {},
   "source": [
    "1. Найти неопределенный интеграл:"
   ]
  },
  {
   "cell_type": "markdown",
   "metadata": {},
   "source": [
    "$$ \\int (2x^2-2x-1+sinx-cosx+lnx+e^x)dx = 2\\int x^2dx-2\\int xdx-\\int dx+\\int sinxdx-\\int cosxdx+\\int lnxdx+\\int e^xdx = \\frac{2}{3}x^3-x^2-x-cosx-sinx+xlnx-x+e^x+C = \\frac{2}{3}x^3-x^2-2x-cosx-sinx+xlnx+e^x+C$$"
   ]
  },
  {
   "cell_type": "markdown",
   "metadata": {},
   "source": [
    "2. Найти неопределенный интеграл:"
   ]
  },
  {
   "cell_type": "markdown",
   "metadata": {},
   "source": [
    "$$ \\int(2x+6xz^2-5x^2y-3lnz)dx = 2\\int xdx+6z^2\\int xdx-5y\\int x^2dx-3lnz \\int dx = (1+3z^2)x^2-\\frac{5}{3}yx^3-3ln(z)x+C$$"
   ]
  },
  {
   "cell_type": "markdown",
   "metadata": {},
   "source": [
    "3. Вычислить определенный интеграл:"
   ]
  },
  {
   "cell_type": "markdown",
   "metadata": {},
   "source": [
    "$$ \\int_{0}^{\\pi} 3x^2sin(2x)dx = 3\\int_{0}^{\\pi} x^2sin(2x)dx$$\n",
    "\n",
    "$ Используем\\ интегрирование\\ по\\ частям:$\n",
    "\n",
    "$$ u = x^2,\\\\ du=2x,\\\\ dv=sin(2x),\\\\ v=\\int sin(2x)dx=-\\frac{cos(2x)}{2}$$\n",
    "\n",
    "$$ \\int x^2sin(2x)dx = -\\frac{x^2cos(2x)}{2}-\\int -xcos(2x)dx = -\\frac{x^2cos(2x)}{2}+\\int xcos(2x)dx$$\n",
    "\n",
    "$ Проинтегрируем\\ \\int xcos(2x)dx:$\n",
    "\n",
    "$$ u = x,\\\\ du=1,\\\\ dv=cos(2x),\\\\ v=\\int cos(2x)dx=\\frac{sin(2x)}{2}$$\n",
    "\n",
    "$$ \\int xcos(2x)dx = \\frac{xsin(2x)}{2}-\\int \\frac{sin(2x)}{2}dx$$\n",
    "\n",
    "$ Вычислим\\ \\int \\frac{sin(2x)}{2}dx\\ путём\\ замены:$\n",
    "\n",
    "$$ z=2x, \\frac{dz}{dx}=2,=> dx=\\frac{dz}{2}$$\n",
    "\n",
    "$$ \\int \\frac{sinz}{2*2}dz = -\\frac{1}{4}cosz = -\\frac{1}{4}cos(2x)$$\n",
    "\n",
    "$ Подставляем: $\n",
    "\n",
    "$$ \\int xcos(2x)dx = \\frac{xsin(2x)}{2}-\\int \\frac{sin(2x)}{2}dx = \\frac{xsin(2x)}{2}+\\frac{1}{4}cos(2x)$$\n",
    "\n",
    "$ Отсюда$\n",
    "\n",
    "$$ 3\\int x^2sin(2x)dx = \\frac{3xsin(2x)}{2}+\\frac{3}{4}cos(2x)-\\frac{3x^2cos(2x)}{2}+C=1.5xsin(2x)+0.75cos(2x)-1.5x^2cos(2x)+C$$\n",
    "\n",
    "$$ \\int_{0}^{\\pi} 3x^2sin(2x)dx = 3\\int_{0}^{\\pi} x^2sin(2x)dx = 1.5xsin(2x)+0.75cos(2x)-1.5x^2cos(2x) \\approx 0.75-1.5\\pi^2-0.75 \\approx -14.8044$$\n"
   ]
  },
  {
   "cell_type": "markdown",
   "metadata": {},
   "source": [
    "4. Найти неопределенный интеграл:"
   ]
  },
  {
   "cell_type": "markdown",
   "metadata": {},
   "source": [
    "$$ \\int \\frac{1}{\\sqrt{x+1}}dx $$\n",
    "\n",
    "$ Заменяем\\ x+1\\ на\\ t,\\ dx\\ на\\ dt: $\n",
    "\n",
    "$$ \\int t^{-0.5}dt = 2\\sqrt{t},=> \\int \\frac{1}{\\sqrt{x+1}}dx = 2\\sqrt{x+1}+C$$"
   ]
  }
 ],
 "metadata": {
  "kernelspec": {
   "display_name": "Python 3",
   "language": "python",
   "name": "python3"
  },
  "language_info": {
   "codemirror_mode": {
    "name": "ipython",
    "version": 3
   },
   "file_extension": ".py",
   "mimetype": "text/x-python",
   "name": "python",
   "nbconvert_exporter": "python",
   "pygments_lexer": "ipython3",
   "version": "3.7.4"
  }
 },
 "nbformat": 4,
 "nbformat_minor": 2
}
